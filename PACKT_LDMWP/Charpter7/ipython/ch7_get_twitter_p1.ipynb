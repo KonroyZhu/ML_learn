{
 "cells": [
  {
   "cell_type": "code",
   "execution_count": 3,
   "metadata": {
    "collapsed": false
   },
   "outputs": [],
   "source": [
    "import twitter\n",
    "consumer_key=\"SvRPZgByTw9b2QuAAiszVnY9h\"\n",
    "consumer_secret=\"DumKpz66HtYqOuHEowhuELDT1A7XWsQ4Rqv3RoGGxXwCoMlu71\"\n",
    "access_token=\"770524582587490305-KF3TiYhze1LWgjaDAnP1OREEy1rQoys\"\n",
    "access_token_secret=\"yyS46PTsHki9INCMdm2195wVVoH0KwyoVhUdtcxsjtqZW\"\n",
    "authorization=twitter.OAuth(access_token,access_token_secret,consumer_key,consumer_secret)\n",
    "t=twitter.Twitter(auth=authorization,retry=True)"
   ]
  },
  {
   "cell_type": "code",
   "execution_count": 4,
   "metadata": {
    "collapsed": true
   },
   "outputs": [],
   "source": [
    "import os\n",
    "data_folder=\"/home/konroy/Documents/konroy/learning data mining with python/twitter2\"\n",
    "output_filename=os.path.join(data_folder,\"python_tweets.json\")"
   ]
  },
  {
   "cell_type": "code",
   "execution_count": null,
   "metadata": {
    "collapsed": true
   },
   "outputs": [],
   "source": [
    "def write_file(list):\n",
    "    for line in list:\n",
    "        output_filename.write(line)\n",
    "        output_filename.write(\"\\n\\n\")"
   ]
  },
  {
   "cell_type": "code",
   "execution_count": 1,
   "metadata": {
    "collapsed": false
   },
   "outputs": [],
   "source": [
    "import json\n",
    "original_users=[]\n",
    "tweets=[]\n",
    "user_ids={}\n",
    "search_results=t.search.tweets(q=\"python\",count=100)['statuses']\n",
    "for tweet in search_results:\n",
    "    if 'text' in tweet:\n",
    "        original_users.append(tweet['user']['screen_name'])\n",
    "        user_ids[tweet['user']['screen_name']]=tweet['user']['id']\n",
    "        tweets.append(tweet['text'])\n",
    "       \n",
    "        output_filename.write(\"original users:---------------------------------------------------\")\n",
    "        output_filename.write(\"\\n\\n\")\n",
    "        write_file(original_users)\n",
    "            \n",
    "        \n",
    "        output_filename.write(\"tweets:---------------------------------------------------\")\n",
    "        output_filename.write(\"\\n\\n\")\n",
    "        write_file(tweets)\n",
    "        \n",
    "        \n",
    "        output_filename.write(\"user_ids:---------------------------------------------------\")\n",
    "        output_filename.write(\"\\n\\n\")\n",
    "         write_file(user_ids)"
   ]
  },
  {
   "cell_type": "code",
   "execution_count": 4,
   "metadata": {
    "collapsed": false
   },
   "outputs": [],
   "source": [
    "# import time\n",
    "# import sys\n",
    "# def get_friends(t,user_id):\n",
    "#     friends=[]\n",
    "#     cursor=-1\n",
    "#     while cursor!=0:\n",
    "#         try:\n",
    "#             results=t.friends.ids(user_id=user_id,cursor=cursor,count=5000)\n",
    "#             friends.extend([friend for friend in results['ids']])\n",
    "#             cursor=results['next_cursor']\n",
    "#             if len(friends)>=10000:\n",
    "#                 bresk\n",
    "#         except TypeError as e:\n",
    "#             if results is None:\n",
    "#                 print(\"You probably reached your API limit waiting for 5 min\")\n",
    "#                 sys.stdout.flush()\n",
    "#                 time.sleep(%*60)\n",
    "#             else:\n",
    "#                 raise e\n",
    "#         except twitter.TwitterHTTPError as e:\n",
    "#             break\n",
    "#             finally:\n",
    "#                 time.sleep(60)\n",
    "#     return firends"
   ]
  },
  {
   "cell_type": "code",
   "execution_count": null,
   "metadata": {
    "collapsed": true
   },
   "outputs": [],
   "source": [
    "# from collections import defaultdict\n",
    "# def count_firends(friends):\n",
    "#     friend_count=defaultdict(int)\n",
    "#     for friend_list in friends.values():\n",
    "#         for friend in friend_list:\n",
    "#             friend_count[friend]+=1\n",
    "#     return friend_count"
   ]
  },
  {
   "cell_type": "code",
   "execution_count": 5,
   "metadata": {
    "collapsed": false
   },
   "outputs": [
    {
     "ename": "SyntaxError",
     "evalue": "invalid syntax (<ipython-input-5-052aac9974dc>, line 9)",
     "output_type": "error",
     "traceback": [
      "\u001b[1;36m  File \u001b[1;32m\"<ipython-input-5-052aac9974dc>\"\u001b[1;36m, line \u001b[1;32m9\u001b[0m\n\u001b[1;33m    form collections import defaultdict\u001b[0m\n\u001b[1;37m                   ^\u001b[0m\n\u001b[1;31mSyntaxError\u001b[0m\u001b[1;31m:\u001b[0m invalid syntax\n"
     ]
    }
   ],
   "source": [
    "# friends={}\n",
    "# for screen_name in relevant_users:\n",
    "#     user_id=user_ids[screen_name]\n",
    "#     friends[user_id]=get_firends(t,user_id)\n",
    "#     friends={user_id:firends[user_id] for user_id in friends if len(friends[user_id])>0}\n",
    "    \n",
    "# friend_count\n",
    "# reverse=True\n",
    "\n",
    "\n"
   ]
  },
  {
   "cell_type": "code",
   "execution_count": null,
   "metadata": {
    "collapsed": true
   },
   "outputs": [],
   "source": []
  }
 ],
 "metadata": {
  "anaconda-cloud": {},
  "kernelspec": {
   "display_name": "Python [Root]",
   "language": "python",
   "name": "Python [Root]"
  },
  "language_info": {
   "codemirror_mode": {
    "name": "ipython",
    "version": 3
   },
   "file_extension": ".py",
   "mimetype": "text/x-python",
   "name": "python",
   "nbconvert_exporter": "python",
   "pygments_lexer": "ipython3",
   "version": "3.5.2"
  }
 },
 "nbformat": 4,
 "nbformat_minor": 0
}
