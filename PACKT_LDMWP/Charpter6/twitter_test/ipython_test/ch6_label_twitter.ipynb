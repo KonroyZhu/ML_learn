{
 "cells": [
  {
   "cell_type": "code",
   "execution_count": 21,
   "metadata": {
    "collapsed": false
   },
   "outputs": [],
   "source": [
    "\n",
    "import os\n",
    "data_folder=\"/home/konroy/Documents/konroy/learning data mining with python\"\n",
    "input_filename=os.path.join(data_folder,\"twitter\",\"python_tweets.json\")\n",
    "labels_filename=os.path.join(data_folder,\"twitter\",\"python_classes.json\")"
   ]
  },
  {
   "cell_type": "code",
   "execution_count": 22,
   "metadata": {
    "collapsed": false
   },
   "outputs": [],
   "source": [
    "import json\n",
    "tweets=[]#append from the input file\n",
    "with open(input_filename) as inf:\n",
    "    for line in inf :\n",
    "        if len(line.strip())==0:\n",
    "            continue\n",
    "        tweets.append(json.loads(line))\n",
    "labels=[]#to get the tweets that have been classified\n",
    "if os.path.exists(labels_filename):\n",
    "    with open(labels_filename) as inf:\n",
    "        for line in inf:\n",
    "            labels.append(json.loads(line))"
   ]
  },
  {
   "cell_type": "code",
   "execution_count": 23,
   "metadata": {
    "collapsed": true
   },
   "outputs": [],
   "source": [
    "def get_next_tweet():\n",
    "    return tweet_sample[len(labels)]['text']"
   ]
  },
  {
   "cell_type": "code",
   "execution_count": 24,
   "metadata": {
    "collapsed": false
   },
   "outputs": [
    {
     "data": {
      "application/javascript": [
       "\n",
       "function load_next_tweet(){\n",
       "    var code_input=\"get_next_tweet()\";\n",
       "    var kernel=IPython.notebook.kernel;\n",
       "    var callback={'iopub':{'output':handle_output}};\n",
       "    kernel.execute(code_input,callbacks,{silent:false});\n",
       "}\n",
       "\n",
       "function set_label(label){\n",
       "    var kernel=Ipython.notebook.kernel;\n",
       "    kernel.execute(\"labels.append(\"+label+\")\");\n",
       "    load_next_tweet();\n",
       "}\n",
       "\n",
       "function handle_output(out){\n",
       "    var res=out.content.data[\"text/plain\"];\n",
       "    $(\"div#tweet_text\").html(res);\n",
       "}"
      ],
      "text/plain": [
       "<IPython.core.display.Javascript object>"
      ]
     },
     "metadata": {},
     "output_type": "display_data"
    }
   ],
   "source": [
    "%%javascript\n",
    "\n",
    "function load_next_tweet(){\n",
    "    var code_input=\"get_next_tweet()\";\n",
    "    var kernel=IPython.notebook.kernel;\n",
    "    var callback={'iopub':{'output':handle_output}};\n",
    "    kernel.execute(code_input,callbacks,{silent:false});\n",
    "}\n",
    "\n",
    "function set_label(label){\n",
    "    var kernel=Ipython.notebook.kernel;\n",
    "    kernel.execute(\"labels.append(\"+label+\")\");\n",
    "    load_next_tweet();\n",
    "}\n",
    "\n",
    "function handle_output(out){\n",
    "    var res=out.content.data[\"text/plain\"];\n",
    "    $(\"div#tweet_text\").html(res);\n",
    "}\n"
   ]
  },
  {
   "cell_type": "code",
   "execution_count": 29,
   "metadata": {
    "collapsed": false
   },
   "outputs": [
    {
     "data": {
      "text/html": [
       "<div name=\"tweetbox\">\n",
       " Instructions: Click in texbox. ENter a 1 if tweet is relevant ,enter 0 otherwise.<br>\n",
       "        Tweet:<div id=\"tweet_text\" value=\"text\">\n",
       "            <script>\n",
       "$(\"input#capture\").keypress(function(e){\n",
       "        if(e.which==48){\n",
       "            set_label(0);\n",
       "            $(\"input#capture\").val(\"\");\n",
       "        }\n",
       "            else if (e.which==49){\n",
       "            set_label(1);\n",
       "            $(\"input#capture\").val(\"\");\n",
       "        }\n",
       "        load_next_tweet();\n",
       "        });\n",
       "</script>\n",
       "</div><br>\n",
       "        <input type=text id=\"capture\"></input><br>\n",
       "</div>"
      ],
      "text/plain": [
       "<IPython.core.display.HTML object>"
      ]
     },
     "metadata": {},
     "output_type": "display_data"
    }
   ],
   "source": [
    "%%html\n",
    "<div name=\"tweetbox\">\n",
    " Instructions: Click in texbox. ENter a 1 if tweet is relevant ,enter 0 otherwise.<br>\n",
    "        Tweet:<div id=\"tweet_text\" value=\"text\">\n",
    "            <script>\n",
    "$(\"input#capture\").keypress(function(e){\n",
    "        if(e.which==48){\n",
    "            set_label(0);\n",
    "            $(\"input#capture\").val(\"\");\n",
    "        }\n",
    "            else if (e.which==49){\n",
    "            set_label(1);\n",
    "            $(\"input#capture\").val(\"\");\n",
    "        }\n",
    "        load_next_tweet();\n",
    "        });\n",
    "</script>\n",
    "</div><br>\n",
    "        <input type=text id=\"capture\"></input><br>\n",
    "</div>\n"
   ]
  },
  {
   "cell_type": "code",
   "execution_count": 19,
   "metadata": {
    "collapsed": true
   },
   "outputs": [],
   "source": [
    "# <script>\n",
    "# $(\"input#capture\").keypress(function(e){\n",
    "#         if(e.which==48){\n",
    "#             set_label(0);\n",
    "#             $(\"input#capture\").val(\"\");\n",
    "#         }else if (e.which==49){\n",
    "#             set_label(1);\n",
    "#             $(\"input#capture\").val(\"\");\n",
    "#         }\n",
    "#     });\n",
    "#     load_next_tweet();\n",
    "# </script>"
   ]
  },
  {
   "cell_type": "code",
   "execution_count": 4,
   "metadata": {
    "collapsed": false
   },
   "outputs": [],
   "source": [
    "# with open(labels_filename,'w') as outf:\n",
    "#     json.dump(labels,outf)"
   ]
  }
 ],
 "metadata": {
  "anaconda-cloud": {},
  "kernelspec": {
   "display_name": "Python [Root]",
   "language": "python",
   "name": "Python [Root]"
  },
  "language_info": {
   "codemirror_mode": {
    "name": "ipython",
    "version": 3
   },
   "file_extension": ".py",
   "mimetype": "text/x-python",
   "name": "python",
   "nbconvert_exporter": "python",
   "pygments_lexer": "ipython3",
   "version": "3.5.2"
  }
 },
 "nbformat": 4,
 "nbformat_minor": 0
}
