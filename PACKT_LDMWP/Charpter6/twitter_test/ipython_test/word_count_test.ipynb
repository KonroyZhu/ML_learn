{
 "cells": [
  {
   "cell_type": "code",
   "execution_count": 5,
   "metadata": {
    "collapsed": false
   },
   "outputs": [
    {
     "name": "stdout",
     "output_type": "stream",
     "text": [
      "[('the', 9), ('in', 4), ('one', 4), ('for', 4), ('to', 4), ('ring', 3), ('of', 3), ('them', 2), ('dark', 2)]\n"
     ]
    }
   ],
   "source": [
    "s=\"\"\"Three Rings for the Elven-kings under the sky,\n",
    "Seven for the Dwarf-loads in halls of stone,\n",
    "Nine for Mortal Men, Doomed to die,\n",
    "One for the Dark Loard on his dark throne\n",
    "In the Land of Mordor where the Shadows lie,\n",
    "One Ring to rule them all, One Ring to find them,\n",
    "One Ring to bring them all and in the darkness bind them.\n",
    "In the Land of Mordor where the Shadows lie\"\"\".lower()\n",
    "words=s.split()\n",
    "from collections import Counter\n",
    "c=Counter(words)\n",
    "print(c.most_common(9))"
   ]
  },
  {
   "cell_type": "code",
   "execution_count": null,
   "metadata": {
    "collapsed": true
   },
   "outputs": [],
   "source": []
  }
 ],
 "metadata": {
  "anaconda-cloud": {},
  "kernelspec": {
   "display_name": "Python [Root]",
   "language": "python",
   "name": "Python [Root]"
  },
  "language_info": {
   "codemirror_mode": {
    "name": "ipython",
    "version": 3
   },
   "file_extension": ".py",
   "mimetype": "text/x-python",
   "name": "python",
   "nbconvert_exporter": "python",
   "pygments_lexer": "ipython3",
   "version": "3.5.2"
  }
 },
 "nbformat": 4,
 "nbformat_minor": 0
}
