{
 "cells": [
  {
   "cell_type": "code",
   "execution_count": 1,
   "metadata": {
    "collapsed": true
   },
   "outputs": [],
   "source": [
    "import twitter\n",
    "consumer_key=\"SvRPZgByTw9b2QuAAiszVnY9h\"\n",
    "consumer_secret=\"DumKpz66HtYqOuHEowhuELDT1A7XWsQ4Rqv3RoGGxXwCoMlu71\"\n",
    "access_token=\"770524582587490305-KF3TiYhze1LWgjaDAnP1OREEy1rQoys\"\n",
    "access_token_secret=\"yyS46PTsHki9INCMdm2195wVVoH0KwyoVhUdtcxsjtqZW\"\n",
    "authorization=twitter.OAuth(access_token,access_token_secret,consumer_key,consumer_secret)\n"
   ]
  },
  {
   "cell_type": "code",
   "execution_count": 2,
   "metadata": {
    "collapsed": false
   },
   "outputs": [],
   "source": [
    "import os\n",
    "data_folder=\"/home/konroy/Documents/konroy/learning data mining with python\"\n",
    "output_filename=os.path.join(data_folder,\"twitter\",\"python_tweets.json\")\n",
    "import json\n",
    "t=twitter.Twitter(auth=authorization)"
   ]
  },
  {
   "cell_type": "code",
   "execution_count": null,
   "metadata": {
    "collapsed": false
   },
   "outputs": [],
   "source": [
    "with open(output_filename,'a') as output_file:\n",
    "    search_results=t.search.tweets(q=\"python\",count=100)['statuses']\n",
    "    for tweet in search_results:\n",
    "        if 'text' in tweet:\n",
    "            output_file.write(json.dumps(tweet))\n",
    "            output_file.write(\"\\n\\n\")"
   ]
  },
  {
   "cell_type": "code",
   "execution_count": null,
   "metadata": {
    "collapsed": true
   },
   "outputs": [],
   "source": []
  }
 ],
 "metadata": {
  "anaconda-cloud": {},
  "kernelspec": {
   "display_name": "Python [Root]",
   "language": "python",
   "name": "Python [Root]"
  },
  "language_info": {
   "codemirror_mode": {
    "name": "ipython",
    "version": 3
   },
   "file_extension": ".py",
   "mimetype": "text/x-python",
   "name": "python",
   "nbconvert_exporter": "python",
   "pygments_lexer": "ipython3",
   "version": "3.5.2"
  }
 },
 "nbformat": 4,
 "nbformat_minor": 0
}
